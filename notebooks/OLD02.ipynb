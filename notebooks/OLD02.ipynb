{
 "cells": [
  {
   "cell_type": "markdown",
   "id": "aa009393",
   "metadata": {},
   "source": [
    "# Imports & Paths"
   ]
  },
  {
   "cell_type": "code",
   "execution_count": null,
   "id": "334b3e03",
   "metadata": {},
   "outputs": [],
   "source": [
    "\n",
    "import pandas as pd\n",
    "from pathlib import Path\n",
    "\n",
    "RAW_PATH = Path(\"../data/raw/tabela-fipe-historico-precos.csv\")\n",
    "PROC_DIR = Path(\"../data/processed\")\n",
    "PROC_DIR.mkdir(parents=True, exist_ok=True)\n",
    "OUT_PATH = PROC_DIR / \"fipe_processed.parquet\"\n",
    "\n",
    "pd.set_option(\"display.max_columns\", None)\n"
   ]
  },
  {
   "cell_type": "markdown",
   "id": "1bbb05c8",
   "metadata": {},
   "source": [
    "# Carga de Dados\n"
   ]
  },
  {
   "cell_type": "code",
   "execution_count": 2,
   "id": "a76231f2",
   "metadata": {},
   "outputs": [
    {
     "name": "stdout",
     "output_type": "stream",
     "text": [
      "(466020, 8)\n"
     ]
    },
    {
     "data": {
      "text/html": [
       "<div>\n",
       "<style scoped>\n",
       "    .dataframe tbody tr th:only-of-type {\n",
       "        vertical-align: middle;\n",
       "    }\n",
       "\n",
       "    .dataframe tbody tr th {\n",
       "        vertical-align: top;\n",
       "    }\n",
       "\n",
       "    .dataframe thead th {\n",
       "        text-align: right;\n",
       "    }\n",
       "</style>\n",
       "<table border=\"1\" class=\"dataframe\">\n",
       "  <thead>\n",
       "    <tr style=\"text-align: right;\">\n",
       "      <th></th>\n",
       "      <th>Unnamed: 0</th>\n",
       "      <th>codigoFipe</th>\n",
       "      <th>marca</th>\n",
       "      <th>modelo</th>\n",
       "      <th>anoModelo</th>\n",
       "      <th>mesReferencia</th>\n",
       "      <th>anoReferencia</th>\n",
       "      <th>valor</th>\n",
       "    </tr>\n",
       "  </thead>\n",
       "  <tbody>\n",
       "    <tr>\n",
       "      <th>0</th>\n",
       "      <td>0</td>\n",
       "      <td>038003-2</td>\n",
       "      <td>Acura</td>\n",
       "      <td>Integra GS 1.8</td>\n",
       "      <td>1992</td>\n",
       "      <td>11</td>\n",
       "      <td>2016</td>\n",
       "      <td>13041.0</td>\n",
       "    </tr>\n",
       "    <tr>\n",
       "      <th>1</th>\n",
       "      <td>1</td>\n",
       "      <td>038001-6</td>\n",
       "      <td>Acura</td>\n",
       "      <td>NSX 3.0</td>\n",
       "      <td>1995</td>\n",
       "      <td>3</td>\n",
       "      <td>2013</td>\n",
       "      <td>52339.0</td>\n",
       "    </tr>\n",
       "    <tr>\n",
       "      <th>2</th>\n",
       "      <td>2</td>\n",
       "      <td>038003-2</td>\n",
       "      <td>Acura</td>\n",
       "      <td>Integra GS 1.8</td>\n",
       "      <td>1992</td>\n",
       "      <td>3</td>\n",
       "      <td>2018</td>\n",
       "      <td>12423.0</td>\n",
       "    </tr>\n",
       "    <tr>\n",
       "      <th>3</th>\n",
       "      <td>3</td>\n",
       "      <td>038002-4</td>\n",
       "      <td>Acura</td>\n",
       "      <td>Legend 3.2/3.5</td>\n",
       "      <td>1998</td>\n",
       "      <td>5</td>\n",
       "      <td>2016</td>\n",
       "      <td>31067.0</td>\n",
       "    </tr>\n",
       "    <tr>\n",
       "      <th>4</th>\n",
       "      <td>4</td>\n",
       "      <td>038002-4</td>\n",
       "      <td>Acura</td>\n",
       "      <td>Legend 3.2/3.5</td>\n",
       "      <td>1998</td>\n",
       "      <td>2</td>\n",
       "      <td>2019</td>\n",
       "      <td>26381.0</td>\n",
       "    </tr>\n",
       "  </tbody>\n",
       "</table>\n",
       "</div>"
      ],
      "text/plain": [
       "   Unnamed: 0 codigoFipe  marca          modelo  anoModelo  mesReferencia  \\\n",
       "0           0   038003-2  Acura  Integra GS 1.8       1992             11   \n",
       "1           1   038001-6  Acura         NSX 3.0       1995              3   \n",
       "2           2   038003-2  Acura  Integra GS 1.8       1992              3   \n",
       "3           3   038002-4  Acura  Legend 3.2/3.5       1998              5   \n",
       "4           4   038002-4  Acura  Legend 3.2/3.5       1998              2   \n",
       "\n",
       "   anoReferencia    valor  \n",
       "0           2016  13041.0  \n",
       "1           2013  52339.0  \n",
       "2           2018  12423.0  \n",
       "3           2016  31067.0  \n",
       "4           2019  26381.0  "
      ]
     },
     "execution_count": 2,
     "metadata": {},
     "output_type": "execute_result"
    }
   ],
   "source": [
    "# %%\n",
    "df = pd.read_csv(RAW_PATH, sep=\",\", encoding=\"utf-8\", low_memory=False)\n",
    "print(df.shape)\n",
    "df.head()"
   ]
  },
  {
   "cell_type": "markdown",
   "id": "7228e1f5",
   "metadata": {},
   "source": [
    "# Seleção de Colunas e PAdronização de Tipos"
   ]
  },
  {
   "cell_type": "code",
   "execution_count": 3,
   "id": "fc566074",
   "metadata": {},
   "outputs": [
    {
     "data": {
      "text/plain": [
       "marca             object\n",
       "modelo            object\n",
       "anoModelo          Int64\n",
       "mesReferencia      Int64\n",
       "anoReferencia      Int64\n",
       "valor            float64\n",
       "dtype: object"
      ]
     },
     "execution_count": 3,
     "metadata": {},
     "output_type": "execute_result"
    }
   ],
   "source": [
    "keep = [\"marca\",\"modelo\",\"anoModelo\",\"mesReferencia\",\"anoReferencia\",\"valor\"]\n",
    "df = df[keep].copy()\n",
    "\n",
    "# Tipagem\n",
    "df[\"anoModelo\"] = pd.to_numeric(df[\"anoModelo\"], errors=\"coerce\").astype(\"Int64\")\n",
    "df[\"mesReferencia\"] = pd.to_numeric(df[\"mesReferencia\"], errors=\"coerce\").astype(\"Int64\")\n",
    "df[\"anoReferencia\"] = pd.to_numeric(df[\"anoReferencia\"], errors=\"coerce\").astype(\"Int64\")\n",
    "df[\"valor\"] = pd.to_numeric(df[\"valor\"], errors=\"coerce\")\n",
    "\n",
    "# Strings\n",
    "df[\"marca\"] = df[\"marca\"].astype(str).str.strip()\n",
    "df[\"modelo\"] = df[\"modelo\"].astype(str).str.strip()\n",
    "\n",
    "df.dtypes\n"
   ]
  },
  {
   "cell_type": "markdown",
   "id": "3f006651",
   "metadata": {},
   "source": [
    "# Remoção de Nulos"
   ]
  },
  {
   "cell_type": "code",
   "execution_count": 4,
   "id": "04e5dcdc",
   "metadata": {},
   "outputs": [
    {
     "name": "stdout",
     "output_type": "stream",
     "text": [
      "Removidos por nulos essenciais: 0\n"
     ]
    }
   ],
   "source": [
    "\n",
    "before = df.shape[0]\n",
    "df = df.dropna(subset=[\"marca\",\"modelo\",\"anoModelo\",\"mesReferencia\",\"anoReferencia\",\"valor\"])\n",
    "after = df.shape[0]\n",
    "print(f\"Removidos por nulos essenciais: {before - after}\")\n"
   ]
  },
  {
   "cell_type": "markdown",
   "id": "1ab8e0c1",
   "metadata": {},
   "source": [
    "# Criar Data Referencia"
   ]
  },
  {
   "cell_type": "code",
   "execution_count": 5,
   "id": "93ea12d2",
   "metadata": {},
   "outputs": [
    {
     "name": "stdout",
     "output_type": "stream",
     "text": [
      "datas inválidas: 0\n"
     ]
    }
   ],
   "source": [
    "df[\"dataReferencia\"] = pd.to_datetime(\n",
    "    dict(year=df[\"anoReferencia\"].astype(int), \n",
    "         month=df[\"mesReferencia\"].astype(int), \n",
    "         day=1),\n",
    "    errors=\"coerce\"\n",
    ")\n",
    "null_dates = df[\"dataReferencia\"].isna().sum()\n",
    "print(\"datas inválidas:\", null_dates)\n",
    "\n",
    "# Remover registros com data inválida (se houver)\n",
    "df = df.dropna(subset=[\"dataReferencia\"])\n"
   ]
  },
  {
   "cell_type": "markdown",
   "id": "1a4d6ca9",
   "metadata": {},
   "source": [
    "# Tratamento de Outliers"
   ]
  },
  {
   "cell_type": "code",
   "execution_count": null,
   "id": "5f358845",
   "metadata": {},
   "outputs": [],
   "source": [
    "\n",
    "MIN_VALOR = 500.0\n",
    "MAX_VALOR = 2_000_000.0\n",
    "\n",
    "mask = (df[\"valor\"] >= MIN_VALOR) & (df[\"valor\"] <= MAX_VALOR)\n",
    "removed = (~mask).sum()\n",
    "df = df.loc[mask].copy()\n",
    "\n",
    "print(f\"Removidos por faixa de valor ({MIN_VALOR:.0f}–{MAX_VALOR:.0f}): {removed}\")\n"
   ]
  },
  {
   "cell_type": "markdown",
   "id": "3e585c1a",
   "metadata": {},
   "source": [
    "# Remoção de Duplicados"
   ]
  },
  {
   "cell_type": "code",
   "execution_count": 6,
   "id": "f8ad4bf5",
   "metadata": {},
   "outputs": [
    {
     "name": "stdout",
     "output_type": "stream",
     "text": [
      "Removidos duplicados exatos: 0\n"
     ]
    }
   ],
   "source": [
    "before = df.shape[0]\n",
    "df = df.drop_duplicates()\n",
    "after = df.shape[0]\n",
    "print(f\"Removidos duplicados exatos: {before - after}\")\n"
   ]
  },
  {
   "cell_type": "markdown",
   "id": "649383d4",
   "metadata": {},
   "source": [
    "# Checagem pós tratamento"
   ]
  },
  {
   "cell_type": "code",
   "execution_count": 7,
   "id": "e5f70e20",
   "metadata": {},
   "outputs": [
    {
     "name": "stdout",
     "output_type": "stream",
     "text": [
      "Formato final: (466020, 7)\n",
      "\n",
      "Amostra:\n"
     ]
    },
    {
     "data": {
      "text/html": [
       "<div>\n",
       "<style scoped>\n",
       "    .dataframe tbody tr th:only-of-type {\n",
       "        vertical-align: middle;\n",
       "    }\n",
       "\n",
       "    .dataframe tbody tr th {\n",
       "        vertical-align: top;\n",
       "    }\n",
       "\n",
       "    .dataframe thead th {\n",
       "        text-align: right;\n",
       "    }\n",
       "</style>\n",
       "<table border=\"1\" class=\"dataframe\">\n",
       "  <thead>\n",
       "    <tr style=\"text-align: right;\">\n",
       "      <th></th>\n",
       "      <th>marca</th>\n",
       "      <th>modelo</th>\n",
       "      <th>anoModelo</th>\n",
       "      <th>mesReferencia</th>\n",
       "      <th>anoReferencia</th>\n",
       "      <th>valor</th>\n",
       "      <th>dataReferencia</th>\n",
       "    </tr>\n",
       "  </thead>\n",
       "  <tbody>\n",
       "    <tr>\n",
       "      <th>162623</th>\n",
       "      <td>Jaguar</td>\n",
       "      <td>F-Pace 3.0 S 380cv Aut.</td>\n",
       "      <td>2022</td>\n",
       "      <td>8</td>\n",
       "      <td>2019</td>\n",
       "      <td>430416.0</td>\n",
       "      <td>2019-08-01</td>\n",
       "    </tr>\n",
       "    <tr>\n",
       "      <th>11200</th>\n",
       "      <td>Audi</td>\n",
       "      <td>Q3 1.4 TFSI/TFSI Flex S-tronic 5p</td>\n",
       "      <td>2022</td>\n",
       "      <td>8</td>\n",
       "      <td>2016</td>\n",
       "      <td>149393.0</td>\n",
       "      <td>2016-08-01</td>\n",
       "    </tr>\n",
       "    <tr>\n",
       "      <th>366001</th>\n",
       "      <td>Saab</td>\n",
       "      <td>9000 CD 2.3 Turbo</td>\n",
       "      <td>1993</td>\n",
       "      <td>2</td>\n",
       "      <td>2011</td>\n",
       "      <td>18060.0</td>\n",
       "      <td>2011-02-01</td>\n",
       "    </tr>\n",
       "    <tr>\n",
       "      <th>226775</th>\n",
       "      <td>Mitsubishi</td>\n",
       "      <td>Space Wagon GLS 2.0</td>\n",
       "      <td>1995</td>\n",
       "      <td>7</td>\n",
       "      <td>2011</td>\n",
       "      <td>13090.0</td>\n",
       "      <td>2011-07-01</td>\n",
       "    </tr>\n",
       "    <tr>\n",
       "      <th>421637</th>\n",
       "      <td>Volvo</td>\n",
       "      <td>C70 Cabriolet</td>\n",
       "      <td>2022</td>\n",
       "      <td>2</td>\n",
       "      <td>2013</td>\n",
       "      <td>189660.0</td>\n",
       "      <td>2013-02-01</td>\n",
       "    </tr>\n",
       "  </tbody>\n",
       "</table>\n",
       "</div>"
      ],
      "text/plain": [
       "             marca                             modelo  anoModelo  \\\n",
       "162623      Jaguar            F-Pace 3.0 S 380cv Aut.       2022   \n",
       "11200         Audi  Q3 1.4 TFSI/TFSI Flex S-tronic 5p       2022   \n",
       "366001        Saab                  9000 CD 2.3 Turbo       1993   \n",
       "226775  Mitsubishi                Space Wagon GLS 2.0       1995   \n",
       "421637       Volvo                      C70 Cabriolet       2022   \n",
       "\n",
       "        mesReferencia  anoReferencia     valor dataReferencia  \n",
       "162623              8           2019  430416.0     2019-08-01  \n",
       "11200               8           2016  149393.0     2016-08-01  \n",
       "366001              2           2011   18060.0     2011-02-01  \n",
       "226775              7           2011   13090.0     2011-07-01  \n",
       "421637              2           2013  189660.0     2013-02-01  "
      ]
     },
     "metadata": {},
     "output_type": "display_data"
    },
    {
     "name": "stdout",
     "output_type": "stream",
     "text": [
      "\n",
      "Resumo de 'valor':\n"
     ]
    },
    {
     "data": {
      "text/plain": [
       "count    4.660200e+05\n",
       "mean     1.157456e+05\n",
       "std      3.250737e+05\n",
       "min      1.871000e+03\n",
       "5%       8.333000e+03\n",
       "25%      1.938800e+04\n",
       "50%      3.941650e+04\n",
       "75%      8.479450e+04\n",
       "95%      4.400000e+05\n",
       "max      8.407082e+06\n",
       "Name: valor, dtype: float64"
      ]
     },
     "metadata": {},
     "output_type": "display_data"
    }
   ],
   "source": [
    "\n",
    "print(\"Formato final:\", df.shape)\n",
    "print(\"\\nAmostra:\")\n",
    "display(df.sample(5, random_state=42))\n",
    "\n",
    "print(\"\\nResumo de 'valor':\")\n",
    "display(df[\"valor\"].describe(percentiles=[0.05,0.25,0.5,0.75,0.95]))\n"
   ]
  },
  {
   "cell_type": "markdown",
   "id": "d9b7524e",
   "metadata": {},
   "source": [
    "# Salvar Processado"
   ]
  },
  {
   "cell_type": "code",
   "execution_count": 11,
   "id": "9a644b1b",
   "metadata": {},
   "outputs": [
    {
     "data": {
      "text/plain": [
       "PosixPath('../data/processed/fipe_processed.parquet')"
      ]
     },
     "execution_count": 11,
     "metadata": {},
     "output_type": "execute_result"
    }
   ],
   "source": [
    "df.to_parquet(OUT_PATH, index=False, engine=\"fastparquet\")\n",
    "OUT_PATH"
   ]
  }
 ],
 "metadata": {
  "kernelspec": {
   "display_name": ".venv",
   "language": "python",
   "name": "python3"
  },
  "language_info": {
   "codemirror_mode": {
    "name": "ipython",
    "version": 3
   },
   "file_extension": ".py",
   "mimetype": "text/x-python",
   "name": "python",
   "nbconvert_exporter": "python",
   "pygments_lexer": "ipython3",
   "version": "3.12.3"
  }
 },
 "nbformat": 4,
 "nbformat_minor": 5
}
